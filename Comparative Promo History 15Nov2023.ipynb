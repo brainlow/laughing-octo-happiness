{
 "cells": [
  {
   "cell_type": "code",
   "execution_count": 1,
   "metadata": {},
   "outputs": [],
   "source": [
    "import pyodbc\n",
    "import sqlalchemy as sal\n",
    "from sqlalchemy import create_engine\n",
    "import pandas as pd"
   ]
  },
  {
   "cell_type": "markdown",
   "metadata": {},
   "source": [
    "### Establish the SQL Connection"
   ]
  },
  {
   "cell_type": "code",
   "execution_count": 2,
   "metadata": {},
   "outputs": [
    {
     "name": "stdout",
     "output_type": "stream",
     "text": [
      "Engine(mssql+pyodbc://GVX0WMERC01P/GC_PRICE?driver=SQL+Server)\n"
     ]
    }
   ],
   "source": [
    "server_name = 'GVX0WMERC01P'\n",
    "database_name = 'GC_PRICE'\n",
    "engine = sal.create_engine('mssql+pyodbc://GVX0WMERC01P/GC_PRICE?driver=SQL Server?Trusted_Connection=yes')\n",
    "print(engine)"
   ]
  },
  {
   "cell_type": "code",
   "execution_count": 3,
   "metadata": {},
   "outputs": [],
   "source": [
    "# establishing the connection to the databse using engine as an interface\n",
    "conn = engine.connect()\n",
    "# cnxn = engine.connect()"
   ]
  },
  {
   "cell_type": "code",
   "execution_count": 4,
   "metadata": {},
   "outputs": [],
   "source": [
    "# print(engine.table_names())"
   ]
  },
  {
   "cell_type": "markdown",
   "metadata": {},
   "source": [
    "### Import the Data into Dataframes"
   ]
  },
  {
   "cell_type": "code",
   "execution_count": 5,
   "metadata": {},
   "outputs": [],
   "source": [
    "# checking whether the connection was actually established by selecting and displaying contents of table from the database\n",
    "# query = \"select [Item Code], [LIR Description] from [Lookup item code]\"\n",
    "# result = engine.execute(query)\n",
    "# for row in result:\n",
    "#     print (row)\n",
    "# result.close()\n",
    "\n",
    "ausa_promo_history_query = \"\"\"\n",
    "WITH Promo_History AS (\n",
    "  SELECT\n",
    "    [w/e],\n",
    "    [LIR Description],\n",
    "    --[Competitor],\n",
    "    [AUSA EDLP],\n",
    "\t[AUSA Actual]\n",
    "    --[Comp EDLP],\n",
    "    --[Comp Actual]\n",
    "  FROM\n",
    "    [GC_PRICE].[dbo].[LJ - Indexes - Item Index Data Master] Indices\n",
    "    JOIN (\n",
    "      SELECT\n",
    "        [str_num]\n",
    "      FROM\n",
    "        [GC_PRICE].[dbo].[Lookup store]\n",
    "      WHERE\n",
    "        [AUSA Banner] = 'giant foods'\n",
    "    ) AS Stores ON Stores.STR_NUM = Indices.Store\n",
    "    JOIN (\n",
    "      SELECT\n",
    "        [item code],\n",
    "        [lir description]\n",
    "      FROM\n",
    "        [GC_PRICE].[dbo].[lookup item code]\n",
    "    ) AS Items ON Items.[Item Code] = Indices.[Item Code]\n",
    "    --JOIN (\n",
    "    --  SELECT\n",
    "    --    [str_shrt_nm] Brand,\n",
    "    --    [str_num]\n",
    "    --  FROM\n",
    "    --    [GC_PRICE].[dbo].[lookup competitor]\n",
    "    --  WHERE\n",
    "    --    [str_shrt_nm] IN ('Wegmans', 'Walmart', 'Safeway', 'Harris Teeter')\n",
    "    --) AS Competitors ON Competitors.[str_num] = Indices.Competitor --where [w/e] > '2022-01-01' and [w/e] < '2022-12-31'\n",
    "  WHERE\n",
    "    [w/e] > dateadd(week, -52, getdate())\n",
    "  GROUP BY\n",
    "    [w/e]\n",
    "    ,[LIR Description]\n",
    "    --[Competitor],\n",
    "    ,[AUSA EDLP]\n",
    "    ,[AUSA Actual]\n",
    "    --,[Comp EDLP]\n",
    "    --,[Comp Actual] --Order by [LIR Description], [Competitor] asc\n",
    ")\n",
    "SELECT\n",
    "  count(*) Weeks,\n",
    "  [LIR Description],\n",
    "  --[Competitor],\n",
    "  [AUSA EDLP],\n",
    "  [AUSA Actual]\n",
    "  --[Comp EDLP],\n",
    "  --[Comp Actual]\n",
    "FROM\n",
    "  Promo_History\n",
    "GROUP BY\n",
    "  [LIR Description],\n",
    "  --[Competitor],\n",
    "  --Brand --,\n",
    "  [AUSA EDLP],\n",
    "  [AUSA Actual]\n",
    "  --[Comp EDLP],\n",
    "  --[Comp Actual]\n",
    "ORDER BY\n",
    "  [LIR Description]\n",
    "  \"\"\"\n",
    "# result = engine.execute(ausa_promo_history_query)\n",
    "# for row in result:\n",
    "#     print (row)\n",
    "# result.close()"
   ]
  },
  {
   "cell_type": "code",
   "execution_count": null,
   "metadata": {},
   "outputs": [],
   "source": [
    "ausa_promo_history = pd.read_sql(ausa_promo_history_query, conn)\n",
    "ausa_promo_history.head()"
   ]
  },
  {
   "cell_type": "code",
   "execution_count": null,
   "metadata": {},
   "outputs": [],
   "source": [
    "comp_promo_history_query = \n",
    "\"\"\"\n",
    "WITH Promo_History AS (\n",
    "  SELECT\n",
    "    [w/e],\n",
    "    [LIR Description],\n",
    "    [Competitor],\n",
    "    Competitors.Brand --,[AUSA EDLP]\n",
    "    --,[AUSA Actual]\n",
    ",\n",
    "    [Comp EDLP],\n",
    "    [Comp Actual]\n",
    "  FROM\n",
    "    [GC_PRICE].[dbo].[LJ - Indexes - Item Index Data Master] Indices\n",
    "    JOIN (\n",
    "      SELECT\n",
    "        [str_num]\n",
    "      FROM\n",
    "        [GC_PRICE].[dbo].[Lookup store]\n",
    "      WHERE\n",
    "        [AUSA Banner] = 'giant foods'\n",
    "    ) AS Stores ON Stores.STR_NUM = Indices.Store\n",
    "    JOIN (\n",
    "      SELECT\n",
    "        [item code],\n",
    "        [lir description]\n",
    "      FROM\n",
    "        [GC_PRICE].[dbo].[lookup item code]\n",
    "    ) AS Items ON Items.[Item Code] = Indices.[Item Code]\n",
    "    JOIN (\n",
    "      SELECT\n",
    "        [str_shrt_nm] Brand,\n",
    "        [str_num]\n",
    "      FROM\n",
    "        [GC_PRICE].[dbo].[lookup competitor]\n",
    "      WHERE\n",
    "        [str_shrt_nm] IN ('Wegmans', 'Walmart', 'Safeway', 'Harris Teeter')\n",
    "    ) AS Competitors ON Competitors.[str_num] = Indices.Competitor --where [w/e] > '2022-01-01' and [w/e] < '2022-12-31'\n",
    "  WHERE\n",
    "    [w/e] > dateadd(week, -52, getdate())\n",
    "  GROUP BY\n",
    "    [w/e],\n",
    "    [LIR Description],\n",
    "    [Competitor],\n",
    "    Competitors.Brand --,[AUSA EDLP]\n",
    "    --,[AUSA Actual]\n",
    ",\n",
    "    [Comp EDLP],\n",
    "    [Comp Actual] --Order by [LIR Description], [Competitor] asc\n",
    ")\n",
    "SELECT\n",
    "  count(*) Weeks,\n",
    "  [LIR Description],\n",
    "  [Competitor],\n",
    "  Brand --,[AUSA EDLP]\n",
    "  --,[AUSA Actual]\n",
    ",\n",
    "  [Comp EDLP],\n",
    "  [Comp Actual]\n",
    "FROM\n",
    "  Promo_History\n",
    "GROUP BY\n",
    "  [LIR Description],\n",
    "  [Competitor],\n",
    "  Brand --,[AUSA EDLP]\n",
    "  --,[AUSA Actual]\n",
    ",\n",
    "  [Comp EDLP],\n",
    "  [Comp Actual]\n",
    "ORDER BY\n",
    "  [LIR Description],\n",
    "  Brand\n",
    "\"\"\"\n",
    "comp_promo_history = pd.read_sql(comp_promo_history_query, conn)\n",
    "comp_promo_history.head()"
   ]
  }
 ],
 "metadata": {
  "kernelspec": {
   "display_name": "Python 3",
   "language": "python",
   "name": "python3"
  },
  "language_info": {
   "codemirror_mode": {
    "name": "ipython",
    "version": 3
   },
   "file_extension": ".py",
   "mimetype": "text/x-python",
   "name": "python",
   "nbconvert_exporter": "python",
   "pygments_lexer": "ipython3",
   "version": "3.8.3"
  }
 },
 "nbformat": 4,
 "nbformat_minor": 4
}
